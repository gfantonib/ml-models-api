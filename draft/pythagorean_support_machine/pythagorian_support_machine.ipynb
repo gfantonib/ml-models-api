{
 "cells": [
  {
   "cell_type": "code",
   "execution_count": 114,
   "id": "2945c451",
   "metadata": {},
   "outputs": [],
   "source": [
    "from pydantic import BaseModel, ConfigDict\n",
    "from typing import List, Dict\n",
    "import random\n",
    "import plotly.graph_objects as go\n",
    "import plotly.colors as pc"
   ]
  },
  {
   "cell_type": "code",
   "execution_count": 115,
   "id": "06b20075",
   "metadata": {},
   "outputs": [],
   "source": [
    "class Point(BaseModel):\n",
    "    coordinates: List[float]\n",
    "\n",
    "class PythagoreanSupportMachineInput(BaseModel):\n",
    "    points: List[Point]\n",
    "    n_groups: int\n",
    "\n",
    "class Group(BaseModel):\n",
    "    points: List[Point]\n",
    "    n_points: int\n",
    "    centroid: Point\n",
    "\n",
    "class PythagoreanSupportMachineOutput(BaseModel):\n",
    "    groups: List[Group]\n",
    "    n_dimensions: int\n",
    "\n",
    "class PointStatus(BaseModel):\n",
    "    probability: float\n",
    "    distance: float\n",
    "    point: Point\n",
    "\n",
    "class Node(BaseModel):\n",
    "    points_status: List[PointStatus]\n",
    "    centroid: Point\n",
    "\n",
    "class MainMatrix(BaseModel):\n",
    "    nodes: List[Node]"
   ]
  },
  {
   "cell_type": "code",
   "execution_count": 116,
   "id": "e4c073d1",
   "metadata": {},
   "outputs": [],
   "source": [
    "def eject_object(base_model_obj, filename):\n",
    "    with open(filename, 'w') as f:\n",
    "        f.write(base_model_obj.model_dump_json())"
   ]
  },
  {
   "cell_type": "code",
   "execution_count": 117,
   "id": "3a5062ae",
   "metadata": {},
   "outputs": [],
   "source": [
    "def generate_points(\n",
    "    n_dimensions: int,\n",
    "    n_points: int,\n",
    "    min_point_range: float,\n",
    "    max_point_range: float\n",
    ") -> List[Point]:\n",
    "    points = []\n",
    "    for _ in range(n_points):\n",
    "        coords = [random.uniform(min_point_range, max_point_range) for _ in range(n_dimensions)]\n",
    "        points.append(Point(coordinates=coords))\n",
    "    return points\n",
    "\n",
    "\n",
    "pts = generate_points(n_dimensions=2, n_points=20, min_point_range=-10, max_point_range=10)\n",
    "input = PythagoreanSupportMachineInput(points=pts, n_groups=10)\n",
    "eject_object(input, \"input.json\")"
   ]
  },
  {
   "cell_type": "code",
   "execution_count": 118,
   "id": "21a0103f",
   "metadata": {},
   "outputs": [],
   "source": [
    "def get_first_points_status(points: List[Point], n_groups: int) -> List[List[PointStatus]]:\n",
    "    nodes: List[List[PointStatus]] = [[] for _ in range(n_groups)]\n",
    "    \n",
    "    for point in points:\n",
    "        raw_probs = [random.random() for _ in range(n_groups)]\n",
    "        total = sum(raw_probs)\n",
    "        \n",
    "        normalized_probs = [p / total for p in raw_probs]\n",
    "        \n",
    "        for i, prob in enumerate(normalized_probs):\n",
    "            nodes[i].append(PointStatus(probability=prob, point=point.model_dump(), distance=0))\n",
    "    \n",
    "    return nodes\n",
    "\n",
    "def calculate_centroid_coordinate(probabilities: List[PointStatus], dimension: int) -> float:\n",
    "    coordinate_numerator = 0\n",
    "    coordinate_denominator = 0\n",
    "    for probability in probabilities:\n",
    "        coordinate_numerator += probability.point.coordinates[dimension] * (probability.probability) ** 2\n",
    "        coordinate_denominator += (probability.probability) ** 2\n",
    "    return coordinate_numerator / coordinate_denominator\n",
    "\n",
    "def calculate_centroid(probabilities: List[PointStatus], n_dimensions: int) -> Point:\n",
    "    coordinates = []\n",
    "    for i in range(n_dimensions):\n",
    "        coordinate = calculate_centroid_coordinate(probabilities, i)\n",
    "        coordinates.append(coordinate)\n",
    "    return Point(coordinates=coordinates)\n",
    "    \n",
    "\n",
    "def set_first_matrix(input: PythagoreanSupportMachineInput) -> MainMatrix:\n",
    "    n_dimensions = len(input.points[0].coordinates)\n",
    "    point_status_list = get_first_points_status(input.points, input.n_groups)\n",
    "    nodes = []\n",
    "    for points_status in point_status_list:\n",
    "        centroid = calculate_centroid(points_status, n_dimensions)\n",
    "        nodes.append(Node(points_status=points_status, centroid=centroid))\n",
    "    return MainMatrix(nodes=nodes)\n",
    "\n",
    "\n",
    "fisrt_matrix = set_first_matrix(input)\n",
    "eject_object(fisrt_matrix, \"first_matrix.json\")"
   ]
  },
  {
   "cell_type": "code",
   "execution_count": 119,
   "id": "19001864",
   "metadata": {},
   "outputs": [],
   "source": [
    "def calculate_distance(point: Point, centroid: Point) -> float:\n",
    "    return sum((p - c) ** 2 for p, c in zip(point.coordinates, centroid.coordinates)) ** 0.5\n",
    "\n",
    "def update_distances_for_node(node: Node) -> MainMatrix:\n",
    "    for point in node.points_status:\n",
    "        point.distance = calculate_distance(point.point, node.centroid)\n",
    "    return node\n",
    "    \n",
    "def update_distances(matrix: MainMatrix) -> MainMatrix:\n",
    "    for node in matrix.nodes:\n",
    "        update_distances_for_node(node)\n",
    "    return matrix\n",
    "    \n",
    "\n",
    "distances = update_distances(fisrt_matrix)\n",
    "eject_object(distances, \"distances.json\")"
   ]
  },
  {
   "cell_type": "code",
   "execution_count": 120,
   "id": "545306f1",
   "metadata": {},
   "outputs": [],
   "source": [
    "def calculate_probability(distance: float, points_status: List[PointStatus]) -> float:\n",
    "    return sum((distance / point.distance)**2 for point in points_status) ** -1\n",
    "\n",
    "def update_probabilities_for_node(node: Node) -> MainMatrix:\n",
    "    for point in node.points_status:\n",
    "        point.probability = calculate_probability(point.distance, node.points_status)\n",
    "    return node\n",
    "\n",
    "def update_probabilities(distances: MainMatrix) -> MainMatrix:\n",
    "    for node in distances.nodes:\n",
    "        update_probabilities_for_node(node)\n",
    "    return distances\n",
    "\n",
    "probabilities = update_probabilities(distances)\n",
    "eject_object(probabilities, \"probabilities.json\")"
   ]
  },
  {
   "cell_type": "code",
   "execution_count": 121,
   "id": "4d142d17",
   "metadata": {},
   "outputs": [],
   "source": [
    "def update_centroids(probabilities: MainMatrix) -> MainMatrix:\n",
    "    for node in probabilities.nodes:\n",
    "        node.centroid = calculate_centroid(node.points_status, len(node.points_status[0].point.coordinates))\n",
    "    return probabilities\n",
    "\n",
    "centroids = update_centroids(probabilities)\n",
    "eject_object(centroids, \"centroids.json\")"
   ]
  },
  {
   "cell_type": "code",
   "execution_count": 122,
   "id": "84d02917",
   "metadata": {},
   "outputs": [],
   "source": [
    "\n",
    "def extract_all_points(matrix: MainMatrix) -> List[Point]:\n",
    "    \"\"\"Extract the list of distinct points from the first node.\"\"\"\n",
    "    return [ps.point for ps in matrix.nodes[0].points_status]\n",
    "\n",
    "\n",
    "def get_n_dimensions(matrix: MainMatrix) -> int:\n",
    "    \"\"\"Return the number of dimensions based on centroid coordinates.\"\"\"\n",
    "    return len(matrix.nodes[0].centroid.coordinates)\n",
    "\n",
    "\n",
    "def find_best_group_for_point(matrix: MainMatrix, point_idx: int) -> int:\n",
    "    \"\"\"Determine which node (group) has the highest probability for a given point index.\"\"\"\n",
    "    return max(\n",
    "        range(len(matrix.nodes)),\n",
    "        key=lambda i: matrix.nodes[i].points_status[point_idx].probability\n",
    "    )\n",
    "\n",
    "\n",
    "def assign_points_to_groups(matrix: MainMatrix, points: List[Point]) -> Dict[int, List[Point]]:\n",
    "    \"\"\"Assign each point to the node with the highest probability.\"\"\"\n",
    "    assignments: Dict[int, List[Point]] = {i: [] for i in range(len(matrix.nodes))}\n",
    "    for point_idx, point in enumerate(points):\n",
    "        best_group_idx = find_best_group_for_point(matrix, point_idx)\n",
    "        assignments[best_group_idx].append(point)\n",
    "    return assignments\n",
    "\n",
    "\n",
    "def build_groups(matrix: MainMatrix, assignments: Dict[int, List[Point]]) -> List[Group]:\n",
    "    \"\"\"Build Group objects with their assigned points and corresponding centroids.\"\"\"\n",
    "    groups: List[Group] = []\n",
    "    for i, node in enumerate(matrix.nodes):\n",
    "        group_points = assignments[i]\n",
    "        group_points = [p.model_dump() for p in group_points]\n",
    "        centroid = node.centroid.model_dump()\n",
    "        groups.append(\n",
    "            Group(\n",
    "                points=group_points,\n",
    "                n_points=len(group_points),\n",
    "                centroid=centroid\n",
    "            )\n",
    "        )\n",
    "    return groups\n",
    "\n",
    "\n",
    "def produce_output(matrix: MainMatrix) -> PythagoreanSupportMachineOutput:\n",
    "    \"\"\"Main transformation entrypoint: build the PythagoreanSupportMachineOutput.\"\"\"\n",
    "    points = extract_all_points(matrix)\n",
    "    n_dimensions = get_n_dimensions(matrix)\n",
    "    assignments = assign_points_to_groups(matrix, points)\n",
    "    groups = build_groups(matrix, assignments)\n",
    "\n",
    "    return PythagoreanSupportMachineOutput(\n",
    "        groups=groups,\n",
    "        n_dimensions=n_dimensions\n",
    "    )\n",
    "\n",
    "\n",
    "output = produce_output(centroids)\n",
    "eject_object(output, \"output.json\")"
   ]
  },
  {
   "cell_type": "code",
   "execution_count": 123,
   "id": "893cdf65",
   "metadata": {},
   "outputs": [
    {
     "data": {
      "application/vnd.plotly.v1+json": {
       "config": {
        "plotlyServerURL": "https://plot.ly"
       },
       "data": [
        {
         "marker": {
          "color": "rgb(48, 18, 59)",
          "line": {
           "width": 1
          },
          "size": 8,
          "symbol": "circle"
         },
         "mode": "markers",
         "name": "Group 0",
         "type": "scatter",
         "x": [
          -0.3146825919937406,
          -0.5660675354782985
         ],
         "y": [
          6.059321011892141,
          2.335727339602398
         ]
        },
        {
         "marker": {
          "color": "rgb(48, 18, 59)",
          "line": {
           "width": 2
          },
          "size": 14,
          "symbol": "x"
         },
         "mode": "markers+text",
         "name": "Centroid 0",
         "showlegend": false,
         "text": [
          "C0"
         ],
         "textposition": "top center",
         "type": "scatter",
         "x": [
          -0.2717289821775897
         ],
         "y": [
          0.8090993780437056
         ]
        },
        {
         "marker": {
          "color": "rgb(68, 96, 208)",
          "line": {
           "width": 2
          },
          "size": 14,
          "symbol": "x"
         },
         "mode": "markers+text",
         "name": "Centroid 1",
         "showlegend": true,
         "text": [
          "C1"
         ],
         "textposition": "top center",
         "type": "scatter",
         "x": [
          -0.264556384496969
         ],
         "y": [
          -1.6931776376804133
         ]
        },
        {
         "marker": {
          "color": "rgb(54, 167, 248)",
          "line": {
           "width": 1
          },
          "size": 8,
          "symbol": "circle"
         },
         "mode": "markers",
         "name": "Group 2",
         "type": "scatter",
         "x": [
          4.048603225888392,
          3.2052295780501012,
          2.140058574302948
         ],
         "y": [
          -1.2764304662527692,
          -0.3510005461245225,
          1.4807870149801854
         ]
        },
        {
         "marker": {
          "color": "rgb(54, 167, 248)",
          "line": {
           "width": 2
          },
          "size": 14,
          "symbol": "x"
         },
         "mode": "markers+text",
         "name": "Centroid 2",
         "showlegend": false,
         "text": [
          "C2"
         ],
         "textposition": "top center",
         "type": "scatter",
         "x": [
          2.9815219463837783
         ],
         "y": [
          -0.03870530877476964
         ]
        },
        {
         "marker": {
          "color": "rgb(33, 226, 181)",
          "line": {
           "width": 1
          },
          "size": 8,
          "symbol": "circle"
         },
         "mode": "markers",
         "name": "Group 3",
         "type": "scatter",
         "x": [
          3.0339950404137674
         ],
         "y": [
          5.530408038687169
         ]
        },
        {
         "marker": {
          "color": "rgb(33, 226, 181)",
          "line": {
           "width": 2
          },
          "size": 14,
          "symbol": "x"
         },
         "mode": "markers+text",
         "name": "Centroid 3",
         "showlegend": false,
         "text": [
          "C3"
         ],
         "textposition": "top center",
         "type": "scatter",
         "x": [
          0.44474191086397785
         ],
         "y": [
          0.5101273256277324
         ]
        },
        {
         "marker": {
          "color": "rgb(112, 252, 97)",
          "line": {
           "width": 1
          },
          "size": 8,
          "symbol": "circle"
         },
         "mode": "markers",
         "name": "Group 4",
         "type": "scatter",
         "x": [
          -0.41936459271292037
         ],
         "y": [
          -2.7006683850088358
         ]
        },
        {
         "marker": {
          "color": "rgb(112, 252, 97)",
          "line": {
           "width": 2
          },
          "size": 14,
          "symbol": "x"
         },
         "mode": "markers+text",
         "name": "Centroid 4",
         "showlegend": false,
         "text": [
          "C4"
         ],
         "textposition": "top center",
         "type": "scatter",
         "x": [
          -0.44737752465064473
         ],
         "y": [
          -2.387059193196185
         ]
        },
        {
         "marker": {
          "color": "rgb(199, 236, 54)",
          "line": {
           "width": 1
          },
          "size": 8,
          "symbol": "circle"
         },
         "mode": "markers",
         "name": "Group 5",
         "type": "scatter",
         "x": [
          8.633274308200988,
          3.868831659191329
         ],
         "y": [
          5.121481807708324,
          2.69058495050842
         ]
        },
        {
         "marker": {
          "color": "rgb(199, 236, 54)",
          "line": {
           "width": 2
          },
          "size": 14,
          "symbol": "x"
         },
         "mode": "markers+text",
         "name": "Centroid 5",
         "showlegend": false,
         "text": [
          "C5"
         ],
         "textposition": "top center",
         "type": "scatter",
         "x": [
          1.436740808519472
         ],
         "y": [
          0.14637401349082227
         ]
        },
        {
         "marker": {
          "color": "rgb(247, 184, 54)",
          "line": {
           "width": 1
          },
          "size": 8,
          "symbol": "circle"
         },
         "mode": "markers",
         "name": "Group 6",
         "type": "scatter",
         "x": [
          -8.861352388526662,
          -7.708326642064732,
          -3.0995785978113872,
          -7.318490322073654,
          -7.58127786487516
         ],
         "y": [
          -2.361067908086003,
          -3.1916830462274204,
          0.2439694706278832,
          -2.0321721183133405,
          7.214328052013791
         ]
        },
        {
         "marker": {
          "color": "rgb(247, 184, 54)",
          "line": {
           "width": 2
          },
          "size": 14,
          "symbol": "x"
         },
         "mode": "markers+text",
         "name": "Centroid 6",
         "showlegend": false,
         "text": [
          "C6"
         ],
         "textposition": "top center",
         "type": "scatter",
         "x": [
          -3.002464648720697
         ],
         "y": [
          0.0035211982448924285
         ]
        },
        {
         "marker": {
          "color": "rgb(244, 105, 24)",
          "line": {
           "width": 1
          },
          "size": 8,
          "symbol": "circle"
         },
         "mode": "markers",
         "name": "Group 7",
         "type": "scatter",
         "x": [
          5.996174861097192,
          2.72360529882765
         ],
         "y": [
          -3.815561709784367,
          -1.7252318013910717
         ]
        },
        {
         "marker": {
          "color": "rgb(244, 105, 24)",
          "line": {
           "width": 2
          },
          "size": 14,
          "symbol": "x"
         },
         "mode": "markers+text",
         "name": "Centroid 7",
         "showlegend": false,
         "text": [
          "C7"
         ],
         "textposition": "top center",
         "type": "scatter",
         "x": [
          1.8090016338629515
         ],
         "y": [
          -0.44751888435422654
         ]
        },
        {
         "marker": {
          "color": "rgb(199, 42, 4)",
          "line": {
           "width": 1
          },
          "size": 8,
          "symbol": "circle"
         },
         "mode": "markers",
         "name": "Group 8",
         "type": "scatter",
         "x": [
          5.272414258891153,
          9.897222564697792,
          -8.520524164292118,
          -9.71845605741442
         ],
         "y": [
          -8.916822626316485,
          -5.723483152050908,
          -5.795924804557455,
          -6.961914742513642
         ]
        },
        {
         "marker": {
          "color": "rgb(199, 42, 4)",
          "line": {
           "width": 2
          },
          "size": 14,
          "symbol": "x"
         },
         "mode": "markers+text",
         "name": "Centroid 8",
         "showlegend": false,
         "text": [
          "C8"
         ],
         "textposition": "top center",
         "type": "scatter",
         "x": [
          -1.0268935535212667
         ],
         "y": [
          -1.9649615567703898
         ]
        },
        {
         "marker": {
          "color": "rgb(122, 4, 2)",
          "line": {
           "width": 2
          },
          "size": 14,
          "symbol": "x"
         },
         "mode": "markers+text",
         "name": "Centroid 9",
         "showlegend": true,
         "text": [
          "C9"
         ],
         "textposition": "top center",
         "type": "scatter",
         "x": [
          -0.7499977829038041
         ],
         "y": [
          -0.048210155226616265
         ]
        }
       ],
       "layout": {
        "legend": {
         "title": {
          "text": "Groups"
         }
        },
        "template": {
         "data": {
          "bar": [
           {
            "error_x": {
             "color": "#2a3f5f"
            },
            "error_y": {
             "color": "#2a3f5f"
            },
            "marker": {
             "line": {
              "color": "white",
              "width": 0.5
             },
             "pattern": {
              "fillmode": "overlay",
              "size": 10,
              "solidity": 0.2
             }
            },
            "type": "bar"
           }
          ],
          "barpolar": [
           {
            "marker": {
             "line": {
              "color": "white",
              "width": 0.5
             },
             "pattern": {
              "fillmode": "overlay",
              "size": 10,
              "solidity": 0.2
             }
            },
            "type": "barpolar"
           }
          ],
          "carpet": [
           {
            "aaxis": {
             "endlinecolor": "#2a3f5f",
             "gridcolor": "#C8D4E3",
             "linecolor": "#C8D4E3",
             "minorgridcolor": "#C8D4E3",
             "startlinecolor": "#2a3f5f"
            },
            "baxis": {
             "endlinecolor": "#2a3f5f",
             "gridcolor": "#C8D4E3",
             "linecolor": "#C8D4E3",
             "minorgridcolor": "#C8D4E3",
             "startlinecolor": "#2a3f5f"
            },
            "type": "carpet"
           }
          ],
          "choropleth": [
           {
            "colorbar": {
             "outlinewidth": 0,
             "ticks": ""
            },
            "type": "choropleth"
           }
          ],
          "contour": [
           {
            "colorbar": {
             "outlinewidth": 0,
             "ticks": ""
            },
            "colorscale": [
             [
              0,
              "#0d0887"
             ],
             [
              0.1111111111111111,
              "#46039f"
             ],
             [
              0.2222222222222222,
              "#7201a8"
             ],
             [
              0.3333333333333333,
              "#9c179e"
             ],
             [
              0.4444444444444444,
              "#bd3786"
             ],
             [
              0.5555555555555556,
              "#d8576b"
             ],
             [
              0.6666666666666666,
              "#ed7953"
             ],
             [
              0.7777777777777778,
              "#fb9f3a"
             ],
             [
              0.8888888888888888,
              "#fdca26"
             ],
             [
              1,
              "#f0f921"
             ]
            ],
            "type": "contour"
           }
          ],
          "contourcarpet": [
           {
            "colorbar": {
             "outlinewidth": 0,
             "ticks": ""
            },
            "type": "contourcarpet"
           }
          ],
          "heatmap": [
           {
            "colorbar": {
             "outlinewidth": 0,
             "ticks": ""
            },
            "colorscale": [
             [
              0,
              "#0d0887"
             ],
             [
              0.1111111111111111,
              "#46039f"
             ],
             [
              0.2222222222222222,
              "#7201a8"
             ],
             [
              0.3333333333333333,
              "#9c179e"
             ],
             [
              0.4444444444444444,
              "#bd3786"
             ],
             [
              0.5555555555555556,
              "#d8576b"
             ],
             [
              0.6666666666666666,
              "#ed7953"
             ],
             [
              0.7777777777777778,
              "#fb9f3a"
             ],
             [
              0.8888888888888888,
              "#fdca26"
             ],
             [
              1,
              "#f0f921"
             ]
            ],
            "type": "heatmap"
           }
          ],
          "histogram": [
           {
            "marker": {
             "pattern": {
              "fillmode": "overlay",
              "size": 10,
              "solidity": 0.2
             }
            },
            "type": "histogram"
           }
          ],
          "histogram2d": [
           {
            "colorbar": {
             "outlinewidth": 0,
             "ticks": ""
            },
            "colorscale": [
             [
              0,
              "#0d0887"
             ],
             [
              0.1111111111111111,
              "#46039f"
             ],
             [
              0.2222222222222222,
              "#7201a8"
             ],
             [
              0.3333333333333333,
              "#9c179e"
             ],
             [
              0.4444444444444444,
              "#bd3786"
             ],
             [
              0.5555555555555556,
              "#d8576b"
             ],
             [
              0.6666666666666666,
              "#ed7953"
             ],
             [
              0.7777777777777778,
              "#fb9f3a"
             ],
             [
              0.8888888888888888,
              "#fdca26"
             ],
             [
              1,
              "#f0f921"
             ]
            ],
            "type": "histogram2d"
           }
          ],
          "histogram2dcontour": [
           {
            "colorbar": {
             "outlinewidth": 0,
             "ticks": ""
            },
            "colorscale": [
             [
              0,
              "#0d0887"
             ],
             [
              0.1111111111111111,
              "#46039f"
             ],
             [
              0.2222222222222222,
              "#7201a8"
             ],
             [
              0.3333333333333333,
              "#9c179e"
             ],
             [
              0.4444444444444444,
              "#bd3786"
             ],
             [
              0.5555555555555556,
              "#d8576b"
             ],
             [
              0.6666666666666666,
              "#ed7953"
             ],
             [
              0.7777777777777778,
              "#fb9f3a"
             ],
             [
              0.8888888888888888,
              "#fdca26"
             ],
             [
              1,
              "#f0f921"
             ]
            ],
            "type": "histogram2dcontour"
           }
          ],
          "mesh3d": [
           {
            "colorbar": {
             "outlinewidth": 0,
             "ticks": ""
            },
            "type": "mesh3d"
           }
          ],
          "parcoords": [
           {
            "line": {
             "colorbar": {
              "outlinewidth": 0,
              "ticks": ""
             }
            },
            "type": "parcoords"
           }
          ],
          "pie": [
           {
            "automargin": true,
            "type": "pie"
           }
          ],
          "scatter": [
           {
            "fillpattern": {
             "fillmode": "overlay",
             "size": 10,
             "solidity": 0.2
            },
            "type": "scatter"
           }
          ],
          "scatter3d": [
           {
            "line": {
             "colorbar": {
              "outlinewidth": 0,
              "ticks": ""
             }
            },
            "marker": {
             "colorbar": {
              "outlinewidth": 0,
              "ticks": ""
             }
            },
            "type": "scatter3d"
           }
          ],
          "scattercarpet": [
           {
            "marker": {
             "colorbar": {
              "outlinewidth": 0,
              "ticks": ""
             }
            },
            "type": "scattercarpet"
           }
          ],
          "scattergeo": [
           {
            "marker": {
             "colorbar": {
              "outlinewidth": 0,
              "ticks": ""
             }
            },
            "type": "scattergeo"
           }
          ],
          "scattergl": [
           {
            "marker": {
             "colorbar": {
              "outlinewidth": 0,
              "ticks": ""
             }
            },
            "type": "scattergl"
           }
          ],
          "scattermap": [
           {
            "marker": {
             "colorbar": {
              "outlinewidth": 0,
              "ticks": ""
             }
            },
            "type": "scattermap"
           }
          ],
          "scattermapbox": [
           {
            "marker": {
             "colorbar": {
              "outlinewidth": 0,
              "ticks": ""
             }
            },
            "type": "scattermapbox"
           }
          ],
          "scatterpolar": [
           {
            "marker": {
             "colorbar": {
              "outlinewidth": 0,
              "ticks": ""
             }
            },
            "type": "scatterpolar"
           }
          ],
          "scatterpolargl": [
           {
            "marker": {
             "colorbar": {
              "outlinewidth": 0,
              "ticks": ""
             }
            },
            "type": "scatterpolargl"
           }
          ],
          "scatterternary": [
           {
            "marker": {
             "colorbar": {
              "outlinewidth": 0,
              "ticks": ""
             }
            },
            "type": "scatterternary"
           }
          ],
          "surface": [
           {
            "colorbar": {
             "outlinewidth": 0,
             "ticks": ""
            },
            "colorscale": [
             [
              0,
              "#0d0887"
             ],
             [
              0.1111111111111111,
              "#46039f"
             ],
             [
              0.2222222222222222,
              "#7201a8"
             ],
             [
              0.3333333333333333,
              "#9c179e"
             ],
             [
              0.4444444444444444,
              "#bd3786"
             ],
             [
              0.5555555555555556,
              "#d8576b"
             ],
             [
              0.6666666666666666,
              "#ed7953"
             ],
             [
              0.7777777777777778,
              "#fb9f3a"
             ],
             [
              0.8888888888888888,
              "#fdca26"
             ],
             [
              1,
              "#f0f921"
             ]
            ],
            "type": "surface"
           }
          ],
          "table": [
           {
            "cells": {
             "fill": {
              "color": "#EBF0F8"
             },
             "line": {
              "color": "white"
             }
            },
            "header": {
             "fill": {
              "color": "#C8D4E3"
             },
             "line": {
              "color": "white"
             }
            },
            "type": "table"
           }
          ]
         },
         "layout": {
          "annotationdefaults": {
           "arrowcolor": "#2a3f5f",
           "arrowhead": 0,
           "arrowwidth": 1
          },
          "autotypenumbers": "strict",
          "coloraxis": {
           "colorbar": {
            "outlinewidth": 0,
            "ticks": ""
           }
          },
          "colorscale": {
           "diverging": [
            [
             0,
             "#8e0152"
            ],
            [
             0.1,
             "#c51b7d"
            ],
            [
             0.2,
             "#de77ae"
            ],
            [
             0.3,
             "#f1b6da"
            ],
            [
             0.4,
             "#fde0ef"
            ],
            [
             0.5,
             "#f7f7f7"
            ],
            [
             0.6,
             "#e6f5d0"
            ],
            [
             0.7,
             "#b8e186"
            ],
            [
             0.8,
             "#7fbc41"
            ],
            [
             0.9,
             "#4d9221"
            ],
            [
             1,
             "#276419"
            ]
           ],
           "sequential": [
            [
             0,
             "#0d0887"
            ],
            [
             0.1111111111111111,
             "#46039f"
            ],
            [
             0.2222222222222222,
             "#7201a8"
            ],
            [
             0.3333333333333333,
             "#9c179e"
            ],
            [
             0.4444444444444444,
             "#bd3786"
            ],
            [
             0.5555555555555556,
             "#d8576b"
            ],
            [
             0.6666666666666666,
             "#ed7953"
            ],
            [
             0.7777777777777778,
             "#fb9f3a"
            ],
            [
             0.8888888888888888,
             "#fdca26"
            ],
            [
             1,
             "#f0f921"
            ]
           ],
           "sequentialminus": [
            [
             0,
             "#0d0887"
            ],
            [
             0.1111111111111111,
             "#46039f"
            ],
            [
             0.2222222222222222,
             "#7201a8"
            ],
            [
             0.3333333333333333,
             "#9c179e"
            ],
            [
             0.4444444444444444,
             "#bd3786"
            ],
            [
             0.5555555555555556,
             "#d8576b"
            ],
            [
             0.6666666666666666,
             "#ed7953"
            ],
            [
             0.7777777777777778,
             "#fb9f3a"
            ],
            [
             0.8888888888888888,
             "#fdca26"
            ],
            [
             1,
             "#f0f921"
            ]
           ]
          },
          "colorway": [
           "#636efa",
           "#EF553B",
           "#00cc96",
           "#ab63fa",
           "#FFA15A",
           "#19d3f3",
           "#FF6692",
           "#B6E880",
           "#FF97FF",
           "#FECB52"
          ],
          "font": {
           "color": "#2a3f5f"
          },
          "geo": {
           "bgcolor": "white",
           "lakecolor": "white",
           "landcolor": "white",
           "showlakes": true,
           "showland": true,
           "subunitcolor": "#C8D4E3"
          },
          "hoverlabel": {
           "align": "left"
          },
          "hovermode": "closest",
          "mapbox": {
           "style": "light"
          },
          "paper_bgcolor": "white",
          "plot_bgcolor": "white",
          "polar": {
           "angularaxis": {
            "gridcolor": "#EBF0F8",
            "linecolor": "#EBF0F8",
            "ticks": ""
           },
           "bgcolor": "white",
           "radialaxis": {
            "gridcolor": "#EBF0F8",
            "linecolor": "#EBF0F8",
            "ticks": ""
           }
          },
          "scene": {
           "xaxis": {
            "backgroundcolor": "white",
            "gridcolor": "#DFE8F3",
            "gridwidth": 2,
            "linecolor": "#EBF0F8",
            "showbackground": true,
            "ticks": "",
            "zerolinecolor": "#EBF0F8"
           },
           "yaxis": {
            "backgroundcolor": "white",
            "gridcolor": "#DFE8F3",
            "gridwidth": 2,
            "linecolor": "#EBF0F8",
            "showbackground": true,
            "ticks": "",
            "zerolinecolor": "#EBF0F8"
           },
           "zaxis": {
            "backgroundcolor": "white",
            "gridcolor": "#DFE8F3",
            "gridwidth": 2,
            "linecolor": "#EBF0F8",
            "showbackground": true,
            "ticks": "",
            "zerolinecolor": "#EBF0F8"
           }
          },
          "shapedefaults": {
           "line": {
            "color": "#2a3f5f"
           }
          },
          "ternary": {
           "aaxis": {
            "gridcolor": "#DFE8F3",
            "linecolor": "#A2B1C6",
            "ticks": ""
           },
           "baxis": {
            "gridcolor": "#DFE8F3",
            "linecolor": "#A2B1C6",
            "ticks": ""
           },
           "bgcolor": "white",
           "caxis": {
            "gridcolor": "#DFE8F3",
            "linecolor": "#A2B1C6",
            "ticks": ""
           }
          },
          "title": {
           "x": 0.05
          },
          "xaxis": {
           "automargin": true,
           "gridcolor": "#EBF0F8",
           "linecolor": "#EBF0F8",
           "ticks": "",
           "title": {
            "standoff": 15
           },
           "zerolinecolor": "#EBF0F8",
           "zerolinewidth": 2
          },
          "yaxis": {
           "automargin": true,
           "gridcolor": "#EBF0F8",
           "linecolor": "#EBF0F8",
           "ticks": "",
           "title": {
            "standoff": 15
           },
           "zerolinecolor": "#EBF0F8",
           "zerolinewidth": 2
          }
         }
        },
        "title": {
         "text": "Pythagorean Support Machine Clusters"
        },
        "xaxis": {
         "title": {
          "text": "X Coordinate"
         }
        },
        "yaxis": {
         "title": {
          "text": "Y Coordinate"
         }
        }
       }
      }
     },
     "metadata": {},
     "output_type": "display_data"
    }
   ],
   "source": [
    "\n",
    "def plot_groups(output: PythagoreanSupportMachineOutput):\n",
    "    \"\"\"\n",
    "    Plot the grouped points and centroids using Plotly.\n",
    "    Points and centroids from the same group share the same color.\n",
    "    Supports any number of groups (colors generated dynamically).\n",
    "    Raises an exception if dimensions are greater than 2.\n",
    "    \"\"\"\n",
    "    if output.n_dimensions != 2:\n",
    "        raise ValueError(\"Can only plot 2-dimensional data.\")\n",
    "\n",
    "    fig = go.Figure()\n",
    "    n_groups = len(output.groups)\n",
    "\n",
    "    # Dynamically generate colors from a continuous colormap\n",
    "    colors = pc.sample_colorscale(\"Turbo\", [i / max(1, n_groups - 1) for i in range(n_groups)])\n",
    "\n",
    "    for idx, group in enumerate(output.groups):\n",
    "        color = colors[idx]\n",
    "\n",
    "        # --- Plot points if any ---\n",
    "        if group.n_points > 0:\n",
    "            xs = [p.coordinates[0] for p in group.points]\n",
    "            ys = [p.coordinates[1] for p in group.points]\n",
    "\n",
    "            fig.add_trace(go.Scatter(\n",
    "                x=xs, y=ys,\n",
    "                mode=\"markers\",\n",
    "                name=f\"Group {idx}\",\n",
    "                marker=dict(size=8, line=dict(width=1), color=color, symbol=\"circle\"),\n",
    "            ))\n",
    "\n",
    "        # --- Always plot centroid ---\n",
    "        cx, cy = group.centroid.coordinates\n",
    "        fig.add_trace(go.Scatter(\n",
    "            x=[cx], y=[cy],\n",
    "            mode=\"markers+text\",\n",
    "            name=f\"Centroid {idx}\",\n",
    "            text=[f\"C{idx}\"],\n",
    "            textposition=\"top center\",\n",
    "            marker=dict(size=14, symbol=\"x\", line=dict(width=2), color=color),\n",
    "            showlegend=(group.n_points == 0),\n",
    "        ))\n",
    "\n",
    "    fig.update_layout(\n",
    "        title=\"Pythagorean Support Machine Clusters\",\n",
    "        xaxis_title=\"X Coordinate\",\n",
    "        yaxis_title=\"Y Coordinate\",\n",
    "        legend_title=\"Groups\",\n",
    "        template=\"plotly_white\"\n",
    "    )\n",
    "\n",
    "    fig.show()\n",
    "\n",
    "\n",
    "plot_groups(output)"
   ]
  }
 ],
 "metadata": {
  "kernelspec": {
   "display_name": ".venv",
   "language": "python",
   "name": "python3"
  },
  "language_info": {
   "codemirror_mode": {
    "name": "ipython",
    "version": 3
   },
   "file_extension": ".py",
   "mimetype": "text/x-python",
   "name": "python",
   "nbconvert_exporter": "python",
   "pygments_lexer": "ipython3",
   "version": "3.11.12"
  }
 },
 "nbformat": 4,
 "nbformat_minor": 5
}
