{
 "cells": [
  {
   "cell_type": "code",
   "execution_count": 29,
   "id": "2945c451",
   "metadata": {},
   "outputs": [],
   "source": [
    "from pydantic import BaseModel, ConfigDict\n",
    "from typing import List\n",
    "import random"
   ]
  },
  {
   "cell_type": "code",
   "execution_count": 33,
   "id": "06b20075",
   "metadata": {},
   "outputs": [],
   "source": [
    "class Point(BaseModel):\n",
    "    coordinates: List[float]\n",
    "\n",
    "class PythagoreanSupportMachineInput(BaseModel):\n",
    "    points: List[Point]\n",
    "    n_groups: int\n",
    "\n",
    "class Group(BaseModel):\n",
    "    points: List[Point]\n",
    "    n_points: int\n",
    "    centroid: Point\n",
    "\n",
    "class PythagoreanSupportMachineOutput(BaseModel):\n",
    "    groups: List[Group]\n",
    "    n_dimensions: int\n",
    "\n",
    "class Probability(BaseModel):\n",
    "    probability: float\n",
    "    point: Point\n",
    "\n",
    "class Node(BaseModel):\n",
    "    probabilities: List[Probability]\n",
    "    centroid: Point\n",
    "\n",
    "class ProbabilityMatrix(BaseModel):\n",
    "    nodes: List[Node]\n",
    "\n",
    "class Distance(BaseModel):\n",
    "    distance: float\n",
    "    point: Point\n",
    "    group: Group\n",
    "\n",
    "class Centroids(BaseModel):\n",
    "    centroids: List[Point]    "
   ]
  },
  {
   "cell_type": "code",
   "execution_count": 16,
   "id": "e4c073d1",
   "metadata": {},
   "outputs": [],
   "source": [
    "def eject_object(base_model_obj, filename):\n",
    "    with open(filename, 'w') as f:\n",
    "        f.write(base_model_obj.model_dump_json())\n"
   ]
  },
  {
   "cell_type": "code",
   "execution_count": 36,
   "id": "3a5062ae",
   "metadata": {},
   "outputs": [],
   "source": [
    "def generate_points(\n",
    "    n_dimensions: int,\n",
    "    n_points: int,\n",
    "    min_point_range: float,\n",
    "    max_point_range: float\n",
    ") -> List[Point]:\n",
    "    points = []\n",
    "    for _ in range(n_points):\n",
    "        coords = [random.uniform(min_point_range, max_point_range) for _ in range(n_dimensions)]\n",
    "        points.append(Point(coordinates=coords))\n",
    "    return points\n",
    "\n",
    "\n",
    "pts = generate_points(n_dimensions=2, n_points=5, min_point_range=-10, max_point_range=10)\n",
    "input = PythagoreanSupportMachineInput(points=pts, n_groups=4)\n",
    "eject_object(input, \"input.json\")"
   ]
  },
  {
   "cell_type": "code",
   "execution_count": 37,
   "id": "21a0103f",
   "metadata": {},
   "outputs": [],
   "source": [
    "def get_first_probabilities(points: List[Point], n_groups: int) -> List[List[Probability]]:\n",
    "    nodes: List[List[Probability]] = [[] for _ in range(n_groups)]\n",
    "    \n",
    "    for point in points:\n",
    "        raw_probs = [random.random() for _ in range(n_groups)]\n",
    "        total = sum(raw_probs)\n",
    "        \n",
    "        normalized_probs = [p / total for p in raw_probs]\n",
    "        \n",
    "        for i, prob in enumerate(normalized_probs):\n",
    "            nodes[i].append(Probability(probability=prob, point=point.model_dump()))\n",
    "    \n",
    "    return nodes\n",
    "\n",
    "def calculate_centroid_coordinate(probabilities: List[Probability], dimension: int) -> float:\n",
    "    coordinate_numerator = 0\n",
    "    coordinate_denominator = 0\n",
    "    for probability in probabilities:\n",
    "        coordinate_numerator += probability.point.coordinates[dimension] * (probability.probability) ** 2\n",
    "        coordinate_denominator += (probability.probability) ** 2\n",
    "    return coordinate_numerator / coordinate_denominator\n",
    "\n",
    "def calculate_centroid(probabilities: List[Probability], n_dimensions: int) -> Point:\n",
    "    coordinates = []\n",
    "    for i in range(n_dimensions):\n",
    "        coordinate = calculate_centroid_coordinate(probabilities, i)\n",
    "        coordinates.append(coordinate)\n",
    "    return Point(coordinates=coordinates)\n",
    "    \n",
    "\n",
    "def set_first_matrix(input: PythagoreanSupportMachineInput) -> ProbabilityMatrix:\n",
    "    n_dimensions = len(input.points[0].coordinates)\n",
    "    probabilities_list = get_first_probabilities(input.points, input.n_groups)\n",
    "    nodes = []\n",
    "    for probabilities in probabilities_list:\n",
    "        centroid = calculate_centroid(probabilities, n_dimensions)\n",
    "        nodes.append(Node(probabilities=probabilities, centroid=centroid))\n",
    "    return ProbabilityMatrix(nodes=nodes)\n",
    "\n",
    "\n",
    "result = set_first_matrix(input)\n",
    "eject_object(result, \"result.json\")\n"
   ]
  }
 ],
 "metadata": {
  "kernelspec": {
   "display_name": ".venv",
   "language": "python",
   "name": "python3"
  },
  "language_info": {
   "codemirror_mode": {
    "name": "ipython",
    "version": 3
   },
   "file_extension": ".py",
   "mimetype": "text/x-python",
   "name": "python",
   "nbconvert_exporter": "python",
   "pygments_lexer": "ipython3",
   "version": "3.11.12"
  }
 },
 "nbformat": 4,
 "nbformat_minor": 5
}
